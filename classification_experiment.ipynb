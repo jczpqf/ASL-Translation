{
 "cells": [
  {
   "cell_type": "code",
   "execution_count": null,
   "metadata": {},
   "outputs": [],
   "source": [
    "import os\n",
    "import torch\n",
    "import torch.nn as nn\n",
    "from utility import train_test_split\n",
    "from numpy import unique\n",
    "from utility import load_data, batch_training_generator\n",
    "from torch_utility import accuracy, fully_connected, Flatten\n",
    "from sequential import Sequential"
   ]
  },
  {
   "cell_type": "code",
   "execution_count": null,
   "metadata": {},
   "outputs": [],
   "source": [
    "image_dir = os.getcwd() + '/grey_images_32' \n",
    "X_raw, labels = load_data(image_dir)"
   ]
  },
  {
   "cell_type": "code",
   "execution_count": null,
   "metadata": {},
   "outputs": [],
   "source": [
    "length, width = X_raw[0].shape\n",
    "X = torch.Tensor(X_raw).type(torch.float32)\n",
    "X = X.view(-1, 1, length, width)\n",
    "X /= 255\n",
    "unique_y = unique(labels)\n",
    "y_dim = len(unique_y)\n",
    "num_unique_labels = len(unique_y)\n",
    "mapping = {label: i for i, label in enumerate(unique_y)}\n",
    "numeric_labels = torch.Tensor([mapping[label] for label in labels]).type(torch.long)"
   ]
  },
  {
   "cell_type": "code",
   "execution_count": null,
   "metadata": {},
   "outputs": [],
   "source": [
    "X_train, X_test, y_train, y_test = train_test_split(X, numeric_labels, test_size=0.1,\n",
    "                                                    shuffle=False)"
   ]
  },
  {
   "cell_type": "code",
   "execution_count": null,
   "metadata": {},
   "outputs": [],
   "source": [
    "N = len(X_train)\n",
    "\n",
    "# 32 X 32 X 1\n",
    "layers = [nn.Conv2d(1, 32, 5), # 28 X 28 X 32\n",
    "          nn.ReLU(),\n",
    "          nn.MaxPool2d(2, 2), # 14 X 14 X 32\n",
    "          nn.Conv2d(32, 32, 5), # 10 X 10 X 32\n",
    "          nn.ReLU(),\n",
    "          nn.MaxPool2d(2, 2), # 5 X 5 X 32\n",
    "          Flatten(),\n",
    "          nn.Linear(5 * 5 * 32, y_dim)\n",
    "         ]\n",
    "model = Sequential(*layers)\n",
    "model"
   ]
  },
  {
   "cell_type": "code",
   "execution_count": null,
   "metadata": {},
   "outputs": [],
   "source": [
    "epochs = 10\n",
    "batch_size = 32\n",
    "op = torch.optim.Adam(model.parameters(), lr=.001)\n",
    "loss_fn = nn.CrossEntropyLoss(reduction='sum')\n",
    "for epoch_num in range(epochs):\n",
    "    epoch_loss = 0\n",
    "    training = batch_training_generator(X_train, y_train, batch_size,\n",
    "                                        shuffle=True)\n",
    "    for x_set, y_set in training:\n",
    "        op.zero_grad()\n",
    "        output = model(x_set)\n",
    "        loss = loss_fn(output, y_set)\n",
    "        loss /= N\n",
    "        epoch_loss += float(loss)\n",
    "        loss.backward()\n",
    "        op.step()\n",
    "    print(epoch_num, epoch_loss, accuracy(model, X_train, y_train))\n",
    "model.append(nn.Softmax(dim=1))\n",
    "print(accuracy(model, X_test, y_test))"
   ]
  },
  {
   "cell_type": "code",
   "execution_count": null,
   "metadata": {},
   "outputs": [],
   "source": []
  },
  {
   "cell_type": "code",
   "execution_count": null,
   "metadata": {},
   "outputs": [],
   "source": []
  }
 ],
 "metadata": {
  "kernelspec": {
   "display_name": "Python 3",
   "language": "python",
   "name": "python3"
  },
  "language_info": {
   "codemirror_mode": {
    "name": "ipython",
    "version": 3
   },
   "file_extension": ".py",
   "mimetype": "text/x-python",
   "name": "python",
   "nbconvert_exporter": "python",
   "pygments_lexer": "ipython3",
   "version": "3.6.4"
  }
 },
 "nbformat": 4,
 "nbformat_minor": 2
}
